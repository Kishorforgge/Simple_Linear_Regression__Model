{
  "nbformat": 4,
  "nbformat_minor": 0,
  "metadata": {
    "colab": {
      "provenance": []
    },
    "kernelspec": {
      "name": "python3",
      "display_name": "Python 3"
    },
    "language_info": {
      "name": "python"
    }
  },
  "cells": [
    {
      "cell_type": "code",
      "execution_count": 4,
      "metadata": {
        "id": "1sCPVSutd7ZH"
      },
      "outputs": [],
      "source": [
        "import numpy as np\n",
        "import pandas as pd\n",
        "import matplotlib.pyplot as plt\n"
      ]
    },
    {
      "cell_type": "code",
      "source": [
        "ds = pd.read_csv('Salary_Data.csv')"
      ],
      "metadata": {
        "id": "1-98Jd_leYUU"
      },
      "execution_count": 5,
      "outputs": []
    },
    {
      "cell_type": "code",
      "source": [
        "X = ds[\"YearsExperience\"].values\n",
        "Y = ds[\"Salary\"].values"
      ],
      "metadata": {
        "id": "wTWYwxTTejgw"
      },
      "execution_count": 6,
      "outputs": []
    },
    {
      "cell_type": "code",
      "source": [
        "X"
      ],
      "metadata": {
        "colab": {
          "base_uri": "https://localhost:8080/"
        },
        "id": "87VPbAsqepvK",
        "outputId": "1df27f56-2ff6-4790-e834-b89d4609026d"
      },
      "execution_count": 7,
      "outputs": [
        {
          "output_type": "execute_result",
          "data": {
            "text/plain": [
              "array([ 1.1,  1.3,  1.5,  2. ,  2.2,  2.9,  3. ,  3.2,  3.2,  3.7,  3.9,\n",
              "        4. ,  4. ,  4.1,  4.5,  4.9,  5.1,  5.3,  5.9,  6. ,  6.8,  7.1,\n",
              "        7.9,  8.2,  8.7,  9. ,  9.5,  9.6, 10.3, 10.5])"
            ]
          },
          "metadata": {},
          "execution_count": 7
        }
      ]
    },
    {
      "cell_type": "code",
      "source": [
        "Y\n",
        "\n"
      ],
      "metadata": {
        "colab": {
          "base_uri": "https://localhost:8080/"
        },
        "id": "_1qdcOkterhh",
        "outputId": "2a607424-ec89-4e43-e5d4-5c2af3567200"
      },
      "execution_count": 8,
      "outputs": [
        {
          "output_type": "execute_result",
          "data": {
            "text/plain": [
              "array([ 39343,  46205,  37731,  43525,  39891,  56642,  60150,  54445,\n",
              "        64445,  57189,  63218,  55794,  56957,  57081,  61111,  67938,\n",
              "        66029,  83088,  81363,  93940,  91738,  98273, 101302, 113812,\n",
              "       109431, 105582, 116969, 112635, 122391, 121872])"
            ]
          },
          "metadata": {},
          "execution_count": 8
        }
      ]
    },
    {
      "cell_type": "code",
      "source": [
        "plt.plot(X,Y)"
      ],
      "metadata": {
        "colab": {
          "base_uri": "https://localhost:8080/",
          "height": 447
        },
        "id": "fcsRyIxjeubB",
        "outputId": "abfef3ae-7179-4dab-af4b-618946b43c69"
      },
      "execution_count": 9,
      "outputs": [
        {
          "output_type": "execute_result",
          "data": {
            "text/plain": [
              "[<matplotlib.lines.Line2D at 0x7f9179720d60>]"
            ]
          },
          "metadata": {},
          "execution_count": 9
        },
        {
          "output_type": "display_data",
          "data": {
            "text/plain": [
              "<Figure size 640x480 with 1 Axes>"
            ],
            "image/png": "[encoded data removed]"
          },
          "metadata": {}
        }
      ]
    },
    {
      "cell_type": "code",
      "source": [
        "X=np.array(X)#for calculation and manipulation in the array\n",
        "Y=np.array(Y)"
      ],
      "metadata": {
        "id": "WxGUvmSIpoYN"
      },
      "execution_count": 10,
      "outputs": []
    },
    {
      "cell_type": "code",
      "source": [
        "def mean(X):\n",
        "    return np.sum(X)/len(X)"
      ],
      "metadata": {
        "id": "a35WI9EapoU_"
      },
      "execution_count": 11,
      "outputs": []
    },
    {
      "cell_type": "code",
      "source": [
        "def variance(X):\n",
        "  mean_value = mean(X)\n",
        "  return np.sum((X-mean_value)**2)/len(X)"
      ],
      "metadata": {
        "id": "gChIOI2lpoRc"
      },
      "execution_count": 12,
      "outputs": []
    },
    {
      "cell_type": "code",
      "source": [
        "def norm(X):\n",
        "  mean_value = mean(X)\n",
        "  variance_value = variance(X)\n",
        "  return (X-mean_value)/np.sqrt(variance_value)     #simply X-mean value / sqrt of the variance"
      ],
      "metadata": {
        "id": "Ufym3_P6poIz"
      },
      "execution_count": 13,
      "outputs": []
    },
    {
      "cell_type": "code",
      "source": [
        "X_norm=norm(X)"
      ],
      "metadata": {
        "id": "pWYt9I_VqXER"
      },
      "execution_count": 14,
      "outputs": []
    },
    {
      "cell_type": "code",
      "source": [
        "import random\n"
      ],
      "metadata": {
        "id": "BhZqMmO1ezZA"
      },
      "execution_count": 15,
      "outputs": []
    },
    {
      "cell_type": "code",
      "source": [
        "class SimpleLR:\n",
        "    def __init__(self,lr=0.1,max_iter=2000,threshold=1e-6):\n",
        "        self.lr=lr\n",
        "        self.max_iter=max_iter\n",
        "        self.threshold=threshold\n",
        "        self.weight=random.uniform(-1,1)\n",
        "        self.bias=random.uniform(-1,1)\n",
        "    def predict(self,X):\n",
        "        return self.weight*X+self.bias\n",
        "    def fit(self,X,Y):\n",
        "        n=len(X)\n",
        "        loss_history=[]\n",
        "        y_pred=self.predict(X)\n",
        "        errors=Y-y_pred\n",
        "        prev_loss=(1/(2*n))*np.sum(errors**2)\n",
        "        loss_history.append(prev_loss)\n",
        "        for i in range(self.max_iter):\n",
        "            w_grad = (1/n)*np.sum(errors*X) #differentiation w.r.t to weight (i.e., a)\n",
        "            b_grad = (1/n)*np.sum(errors)  #diffrentiation w.r.t to bias (i.e b)\n",
        "            self.weight=self.weight+self.lr*w_grad\n",
        "            self.bias=self.bias+self.lr*b_grad\n",
        "            y_pred=self.predict(X)\n",
        "            errors=Y-y_pred\n",
        "            curr_loss=1/(2*n)*np.sum(errors**2)\n",
        "            if np.abs(curr_loss-prev_loss)<self.threshold:\n",
        "                break\n",
        "            prev_loss = curr_loss\n",
        "            loss_history.append(curr_loss)\n",
        "        return loss_history\n",
        "    def plot(self,X,Y):\n",
        "        y_pred=self.predict(X)\n",
        "        plt.plot(X,Y)\n",
        "        plt.plot(X,y_pred)\n",
        "\n",
        "\n",
        "\n"
      ],
      "metadata": {
        "id": "Xvfm7JopkO4D"
      },
      "execution_count": 16,
      "outputs": []
    },
    {
      "cell_type": "code",
      "source": [
        "model = SimpleLR()\n"
      ],
      "metadata": {
        "id": "lemwQRcwoqob"
      },
      "execution_count": 17,
      "outputs": []
    },
    {
      "cell_type": "code",
      "source": [
        "loss_history=model.fit(X_norm, Y)\n"
      ],
      "metadata": {
        "id": "qTEY6Lj1pKtN"
      },
      "execution_count": 18,
      "outputs": []
    },
    {
      "cell_type": "code",
      "source": [
        "loss_history"
      ],
      "metadata": {
        "colab": {
          "base_uri": "https://localhost:8080/"
        },
        "collapsed": true,
        "id": "vo5BrVjApSAl",
        "outputId": "2b67538d-3c10-48ab-d83b-fcade5d1044b"
      },
      "execution_count": 19,
      "outputs": [
        {
          "output_type": "execute_result",
          "data": {
            "text/plain": [
              "[3251540659.7973733,\n",
              " 2636718674.849489,\n",
              " 2138712867.041703,\n",
              " 1735328162.717396,\n",
              " 1408586552.2147074,\n",
              " 1143925847.70753,\n",
              " 929550677.0567156,\n",
              " 755906788.8295563,\n",
              " 615255239.3655573,\n",
              " 501327484.2997179,\n",
              " 409046002.6963883,\n",
              " 334298002.59769106,\n",
              " 273752122.51774657,\n",
              " 224709959.6529913,\n",
              " 184985807.7325397,\n",
              " 152809244.6769739,\n",
              " 126746228.60196565,\n",
              " 105635185.58120883,\n",
              " 88535240.73439582,\n",
              " 74684285.40847728,\n",
              " 63465011.59448319,\n",
              " 54377399.80514813,\n",
              " 47016434.25578666,\n",
              " 41054052.16080385,\n",
              " 36224522.6638678,\n",
              " 32312603.77134958,\n",
              " 29143949.468409862,\n",
              " 26577339.483028654,\n",
              " 24498385.394869924,\n",
              " 22814432.58346131,\n",
              " 21450430.806220375,\n",
              " 20345589.36665519,\n",
              " 19450667.800607402,\n",
              " 18725781.332108706,\n",
              " 18138623.29262476,\n",
              " 17663025.280642733,\n",
              " 17277790.890937317,\n",
              " 16965751.035275895,\n",
              " 16712998.752190176,\n",
              " 16508269.402890734,\n",
              " 16342438.629958179,\n",
              " 16208115.703882812,\n",
              " 16099314.133761773,\n",
              " 16011184.861963727,\n",
              " 15939800.151807316,\n",
              " 15881978.536580617,\n",
              " 15835143.028246993,\n",
              " 15797206.266496746,\n",
              " 15766477.489479061,\n",
              " 15741587.180094732,\n",
              " 15721426.029493425,\n",
              " 15705095.497506367,\n",
              " 15691867.766596854,\n",
              " 15681153.304560136,\n",
              " 15672474.590310402,\n",
              " 15665444.831768125,\n",
              " 15659750.727348868,\n",
              " 15655138.502769276,\n",
              " 15651402.600859802,\n",
              " 15648376.52031314,\n",
              " 15645925.395070335,\n",
              " 15643939.983623657,\n",
              " 15642331.800351858,\n",
              " 15641029.171901695,\n",
              " 15639974.042857056,\n",
              " 15639119.388330914,\n",
              " 15638427.118164731,\n",
              " 15637866.379330123,\n",
              " 15637412.180874093,\n",
              " 15637044.280124709,\n",
              " 15636746.280517709,\n",
              " 15636504.90083603,\n",
              " 15636309.383293867,\n",
              " 15636151.014084732,\n",
              " 15636022.735025322,\n",
              " 15635918.828987207,\n",
              " 15635834.665096326,\n",
              " 15635766.492344715,\n",
              " 15635711.272415908,\n",
              " 15635666.544273585,\n",
              " 15635630.314478291,\n",
              " 15635600.968344102,\n",
              " 15635577.197975418,\n",
              " 15635557.943976773,\n",
              " 15635542.34823788,\n",
              " 15635529.71568937,\n",
              " 15635519.483325088,\n",
              " 15635511.19511001,\n",
              " 15635504.481655797,\n",
              " 15635499.04375789,\n",
              " 15635494.639060581,\n",
              " 15635491.071255764,\n",
              " 15635488.181333864,\n",
              " 15635485.840497117,\n",
              " 15635483.944419362,\n",
              " 15635482.408596369,\n",
              " 15635481.164579758,\n",
              " 15635480.15692629,\n",
              " 15635479.340726981,\n",
              " 15635478.679605547,\n",
              " 15635478.144097188,\n",
              " 15635477.710335413,\n",
              " 15635477.358988382,\n",
              " 15635477.074397271,\n",
              " 15635476.843878487,\n",
              " 15635476.657158269,\n",
              " 15635476.505914876,\n",
              " 15635476.383407742,\n",
              " 15635476.284176966,\n",
              " 15635476.20380004,\n",
              " 15635476.13869472,\n",
              " 15635476.08595942,\n",
              " 15635476.043243818,\n",
              " 15635476.008644179,\n",
              " 15635475.98061848,\n",
              " 15635475.957917655,\n",
              " 15635475.939529998,\n",
              " 15635475.92463599,\n",
              " 15635475.912571846,\n",
              " 15635475.90279988,\n",
              " 15635475.894884594,\n",
              " 15635475.888473207,\n",
              " 15635475.883279996,\n",
              " 15635475.879073484,\n",
              " 15635475.875666216,\n",
              " 15635475.872906333,\n",
              " 15635475.870670812,\n",
              " 15635475.868860042,\n",
              " 15635475.86739333,\n",
              " 15635475.866205296,\n",
              " 15635475.865242971,\n",
              " 15635475.864463503,\n",
              " 15635475.863832127,\n",
              " 15635475.863320712,\n",
              " 15635475.862906469,\n",
              " 15635475.862570934,\n",
              " 15635475.862299144,\n",
              " 15635475.862079002,\n",
              " 15635475.861900682,\n",
              " 15635475.861756247,\n",
              " 15635475.86163926,\n",
              " 15635475.861544477,\n",
              " 15635475.861467717,\n",
              " 15635475.861405542,\n",
              " 15635475.861355186,\n",
              " 15635475.861314392,\n",
              " 15635475.86128135,\n",
              " 15635475.861254582,\n",
              " 15635475.861232903,\n",
              " 15635475.861215346,\n",
              " 15635475.861201122,\n",
              " 15635475.861189604,\n",
              " 15635475.861180268,\n",
              " 15635475.861172706,\n",
              " 15635475.861166589,\n",
              " 15635475.861161621,\n",
              " 15635475.861157607,\n",
              " 15635475.861154359,\n",
              " 15635475.861151712,\n",
              " 15635475.861149585,\n",
              " 15635475.86114785,\n",
              " 15635475.861146457,\n",
              " 15635475.861145318]"
            ]
          },
          "metadata": {},
          "execution_count": 19
        }
      ]
    },
    {
      "cell_type": "code",
      "source": [
        "plt.plot(loss_history)"
      ],
      "metadata": {
        "colab": {
          "base_uri": "https://localhost:8080/",
          "height": 462
        },
        "id": "hjvQPmgKqnpF",
        "outputId": "9ae2ecd2-f76a-48d5-ac55-0b6503ae68bf"
      },
      "execution_count": 20,
      "outputs": [
        {
          "output_type": "execute_result",
          "data": {
            "text/plain": [
              "[<matplotlib.lines.Line2D at 0x7f91774660b0>]"
            ]
          },
          "metadata": {},
          "execution_count": 20
        },
        {
          "output_type": "display_data",
          "data": {
            "text/plain": [
              "<Figure size 640x480 with 1 Axes>"
            ],
            "image/png": "[encoded data removed]"
          },
          "metadata": {}
        }
      ]
    },
    {
      "cell_type": "code",
      "source": [
        "model.plot(X_norm,Y)"
      ],
      "metadata": {
        "colab": {
          "base_uri": "https://localhost:8080/",
          "height": 430
        },
        "id": "hQatN-kaqsYg",
        "outputId": "8435a5be-d188-4ea6-86a4-52dc938ebbca"
      },
      "execution_count": 21,
      "outputs": [
        {
          "output_type": "display_data",
          "data": {
            "text/plain": [
              "<Figure size 640x480 with 1 Axes>"
            ],
            "image/png": "[encoded data removed]"
          },
          "metadata": {}
        }
      ]
    },
    {
      "cell_type": "code",
      "source": [
        "#Model Definition\n",
        "\n",
        "class SimplerLR:\n",
        "    def __init__(self,lr=0.1,max_iter=2000,threshold=1e-6):\n",
        "        self.lr=lr\n",
        "        self.max_iter=max_iter\n",
        "        self.threshold=threshold\n",
        "        self.weight=random.uniform(-1,1)\n",
        "        self.bias=random.uniform(-1,1)\n",
        "    def predict(self,X):\n",
        "        return self.weight*X+self.bias\n",
        "    def fit(self,X,Y):\n",
        "        n=len(X)\n",
        "        loss_history=[]\n",
        "        y_pred=self.predict(X)\n",
        "        errors=Y-y_pred\n",
        "        prev_loss=(1/(2*n))*np.sum(errors**2)\n",
        "        loss_history.append(prev_loss)\n",
        "        for i in range(self.max_iter):\n",
        "            w_grad=(1/n)*np.sum(errors*X)\n",
        "            b_grad=(1/n)*np.sum(errors)\n",
        "            self.weight+=self.lr*w_grad\n",
        "            self.bias+=self.lr*b_grad\n",
        "            y_pred=self.predict(X)\n",
        "            errors=Y-y_pred\n",
        "            curr_loss=(1/(2*n))*np.sum(errors**2)\n",
        "            if np.abs(curr_loss-prev_loss)<self.threshold:\n",
        "              break\n",
        "            prev_loss=curr_loss\n",
        "            loss_history.append(curr_loss)\n",
        "        return loss_history\n",
        "    def plot(self,X,Y):\n",
        "        y_pred=self.predict(X)\n",
        "        plt.plot(X,Y)\n",
        "        plt.plot(X,y_pred)\n",
        "\n"
      ],
      "metadata": {
        "id": "FSYn5dYWq_A-"
      },
      "execution_count": 24,
      "outputs": []
    },
    {
      "cell_type": "code",
      "source": [],
      "metadata": {
        "id": "Ptjj7Jt82x90"
      },
      "execution_count": 23,
      "outputs": []
    },
    {
      "cell_type": "code",
      "source": [],
      "metadata": {
        "id": "-Tc4fPL9Tsfp"
      },
      "execution_count": 23,
      "outputs": []
    }
  ]
}